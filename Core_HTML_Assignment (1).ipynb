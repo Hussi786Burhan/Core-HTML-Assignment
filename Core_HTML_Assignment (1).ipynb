{
  "nbformat": 4,
  "nbformat_minor": 0,
  "metadata": {
    "colab": {
      "provenance": []
    },
    "kernelspec": {
      "name": "python3",
      "display_name": "Python 3"
    },
    "language_info": {
      "name": "python"
    }
  },
  "cells": [
    {
      "cell_type": "code",
      "execution_count": 2,
      "metadata": {
        "id": "92bnt_44MB-A"
      },
      "outputs": [],
      "source": []
    },
    {
      "cell_type": "markdown",
      "source": [
        "Q:1 Build a simple webpage that displays text as shown in the below image.\n"
      ],
      "metadata": {
        "id": "PIQIGYsCMT1f"
      }
    },
    {
      "cell_type": "code",
      "source": [
        "from IPython.display import display, HTML\n",
        "\n",
        "html_code = \"\"\"\n",
        "<b>this is bold</b><br>\n",
        "<i>this is italic </i><br>\n",
        "<ins>this text will be underlined</ins><br>\n",
        "this is normal <sup>this is super scripted</sup> this is normal again<br>\n",
        "this is normal <sub> this is sub scripted</sub><br>\n",
        "normal text <small>small text</small><br>\n",
        "<del>this will be deleted</del>\n",
        "\"\"\"\n",
        "\n",
        "display(HTML(html_code))\n"
      ],
      "metadata": {
        "colab": {
          "base_uri": "https://localhost:8080/",
          "height": 145
        },
        "id": "ZB_GLDaPejfc",
        "outputId": "8cbc857e-8eb4-420b-f066-b3a403874b1b"
      },
      "execution_count": 9,
      "outputs": [
        {
          "output_type": "display_data",
          "data": {
            "text/plain": [
              "<IPython.core.display.HTML object>"
            ],
            "text/html": [
              "\n",
              "<b>this is bold</b><br>\n",
              "<i>this is italic </i><br>\n",
              "<ins>this text will be underlined</ins><br>\n",
              "this is normal <sup>this is super scripted</sup> this is normal again<br>\n",
              "this is normal <sub> this is sub scripted</sub><br>\n",
              "normal text <small>small text</small><br>\n",
              "<del>this will be deleted</del>\n"
            ]
          },
          "metadata": {}
        }
      ]
    },
    {
      "cell_type": "markdown",
      "source": [
        "Q:2 Build a simple webpage that helps users navigate different web development-related websites. Note: On\n",
        "clicking the hyperlink the web pages should open in a new tab. Below is a reference image."
      ],
      "metadata": {
        "id": "rk520243i4Cs"
      }
    },
    {
      "cell_type": "code",
      "source": [
        "from IPython.core.display import display, HTML\n",
        "\n",
        "html_code = '''\n",
        "<h1>Navigate Me :</h1>\n",
        "<ul>\n",
        "    <li>\n",
        "        Take me to <a href=\"https://www.pwskills.com/\" target=\"_blank\">PW Skills</a> to buy a course\n",
        "    </li>\n",
        "    <li>\n",
        "        Take me to <a href=\"https://developer.mozilla.org/\" target=\"_blank\">MDN Docs</a> to know about web development\n",
        "    </li>\n",
        "    <li>\n",
        "        Take me to <a href=\"https://lab.pwskills.com/\" target=\"_blank\">PW Skills Lab</a> to practice live coding\n",
        "    </li>\n",
        "</ul>\n",
        "'''\n",
        "\n",
        "display(HTML(html_code))\n"
      ],
      "metadata": {
        "colab": {
          "base_uri": "https://localhost:8080/",
          "height": 135
        },
        "id": "IcpqOkDTjHSD",
        "outputId": "be7a2277-b630-42ea-d02d-5c6090d928c4"
      },
      "execution_count": 11,
      "outputs": [
        {
          "output_type": "display_data",
          "data": {
            "text/plain": [
              "<IPython.core.display.HTML object>"
            ],
            "text/html": [
              "\n",
              "<h1>Navigate Me :</h1>\n",
              "<ul>\n",
              "    <li>\n",
              "        Take me to <a href=\"https://www.pwskills.com/\" target=\"_blank\">PW Skills</a> to buy a course\n",
              "    </li>\n",
              "    <li>\n",
              "        Take me to <a href=\"https://developer.mozilla.org/\" target=\"_blank\">MDN Docs</a> to know about web development\n",
              "    </li>\n",
              "    <li>\n",
              "        Take me to <a href=\"https://lab.pwskills.com/\" target=\"_blank\">PW Skills Lab</a> to practice live coding\n",
              "    </li>\n",
              "</ul>\n"
            ]
          },
          "metadata": {}
        }
      ]
    },
    {
      "cell_type": "markdown",
      "source": [
        "Q:3 Build a simple blog web page with 3 pages home, web development, and web design. Each page must\n",
        "contain hyperlinks to other pages in the top, a heading of the page topic and a paragraph of information.\n",
        "For the home page you can add some information about yourself"
      ],
      "metadata": {
        "id": "z9oYaBi-js0F"
      }
    },
    {
      "cell_type": "code",
      "source": [
        "from IPython.core.display import display, HTML\n",
        "\n",
        "html_code = '''\n",
        "<!DOCTYPE html>\n",
        "<html lang=\"en\">\n",
        "<head>\n",
        "    <meta charset=\"UTF-8\">\n",
        "    <meta name=\"viewport\" content=\"width=device-width, initial-scale=1.0\">\n",
        "    <title>My Blog</title>\n",
        "</head>\n",
        "<body>\n",
        "    <nav>\n",
        "        <a href=\"index.html\">Home</a> |\n",
        "        <a href=\"web-development.html\">Web Development</a> |\n",
        "        <a href=\"web-design.html\">Web Design</a>\n",
        "    </nav>\n",
        "    <h1>Welcome to My Blog</h1>\n",
        "    <p>Hi, I am a web developer. This blog shares knowledge about web development and design.</p>\n",
        "</body>\n",
        "</html>\n",
        "'''\n",
        "\n",
        "display(HTML(html_code))\n"
      ],
      "metadata": {
        "colab": {
          "base_uri": "https://localhost:8080/",
          "height": 117
        },
        "id": "v57ewtUMld8U",
        "outputId": "c1e03799-6513-4dcb-a1ed-4099e7df8f57"
      },
      "execution_count": 13,
      "outputs": [
        {
          "output_type": "display_data",
          "data": {
            "text/plain": [
              "<IPython.core.display.HTML object>"
            ],
            "text/html": [
              "\n",
              "<!DOCTYPE html>\n",
              "<html lang=\"en\">\n",
              "<head>\n",
              "    <meta charset=\"UTF-8\">\n",
              "    <meta name=\"viewport\" content=\"width=device-width, initial-scale=1.0\">\n",
              "    <title>My Blog</title>\n",
              "</head>\n",
              "<body>\n",
              "    <nav>\n",
              "        <a href=\"index.html\">Home</a> |\n",
              "        <a href=\"web-development.html\">Web Development</a> |\n",
              "        <a href=\"web-design.html\">Web Design</a>\n",
              "    </nav>\n",
              "    <h1>Welcome to My Blog</h1>\n",
              "    <p>Hi, I am a web developer. This blog shares knowledge about web development and design.</p>\n",
              "</body>\n",
              "</html>\n"
            ]
          },
          "metadata": {}
        }
      ]
    },
    {
      "cell_type": "markdown",
      "source": [
        "Q:4 Create an ordered list of HTML tags. Each list item must include the tag name and some information about\n",
        "the **tag**"
      ],
      "metadata": {
        "id": "b-MS9dQCl1-U"
      }
    },
    {
      "cell_type": "code",
      "source": [
        "from IPython.core.display import display, HTML\n",
        "\n",
        "html_list = '''\n",
        "<ol>\n",
        "    <li><b>&lt;h1&gt; - &lt;h6&gt;</b>: Heading tags define different levels of headings.</li>\n",
        "    <li><b>&lt;p&gt;</b>: Defines a paragraph.</li>\n",
        "    <li><b>&lt;a&gt;</b>: Creates hyperlinks.</li>\n",
        "    <li><b>&lt;img&gt;</b>: Embeds an image.</li>\n",
        "    <li><b>&lt;table&gt;</b>: Creates a table.</li>\n",
        "</ol>\n",
        "'''\n",
        "\n",
        "display(HTML(html_list))\n"
      ],
      "metadata": {
        "colab": {
          "base_uri": "https://localhost:8080/",
          "height": 132
        },
        "id": "pGUEG9fYl_UD",
        "outputId": "c3159517-60da-4b70-a5ef-4181f743e723"
      },
      "execution_count": 14,
      "outputs": [
        {
          "output_type": "display_data",
          "data": {
            "text/plain": [
              "<IPython.core.display.HTML object>"
            ],
            "text/html": [
              "\n",
              "<ol>\n",
              "    <li><b>&lt;h1&gt; - &lt;h6&gt;</b>: Heading tags define different levels of headings.</li>\n",
              "    <li><b>&lt;p&gt;</b>: Defines a paragraph.</li>\n",
              "    <li><b>&lt;a&gt;</b>: Creates hyperlinks.</li>\n",
              "    <li><b>&lt;img&gt;</b>: Embeds an image.</li>\n",
              "    <li><b>&lt;table&gt;</b>: Creates a table.</li>\n",
              "</ol>\n"
            ]
          },
          "metadata": {}
        }
      ]
    },
    {
      "cell_type": "markdown",
      "source": [],
      "metadata": {
        "id": "d9CwmUV_mc3v"
      }
    },
    {
      "cell_type": "markdown",
      "source": [
        "Q:5Create a description list of full stack web development tech stack, using the <dl> tag. Each term should be\n",
        "a tech stack name and each description should be a brief explanation of what the tech stack is used for"
      ],
      "metadata": {
        "id": "0BVBIBComc6B"
      }
    },
    {
      "cell_type": "code",
      "source": [
        "from IPython.core.display import display, HTML\n",
        "\n",
        "html_dl = '''\n",
        "<dl>\n",
        "    <dt><b>HTML</b></dt>\n",
        "    <dd>The standard markup language for creating web pages.</dd>\n",
        "\n",
        "    <dt><b>CSS</b></dt>\n",
        "    <dd>Styles web pages and controls their layout.</dd>\n",
        "\n",
        "    <dt><b>JavaScript</b></dt>\n",
        "    <dd>A programming language that adds interactivity to websites.</dd>\n",
        "\n",
        "    <dt><b>Node.js</b></dt>\n",
        "    <dd>A JavaScript runtime for server-side development.</dd>\n",
        "\n",
        "    <dt><b>MongoDB</b></dt>\n",
        "    <dd>A NoSQL database used in modern web applications.</dd>\n",
        "</dl>\n",
        "'''\n",
        "\n",
        "display(HTML(html_dl))\n"
      ],
      "metadata": {
        "colab": {
          "base_uri": "https://localhost:8080/",
          "height": 219
        },
        "id": "zp2uOf7GnFNL",
        "outputId": "4ed473cd-38de-4460-b6a8-3beebecc4ed7"
      },
      "execution_count": 15,
      "outputs": [
        {
          "output_type": "display_data",
          "data": {
            "text/plain": [
              "<IPython.core.display.HTML object>"
            ],
            "text/html": [
              "\n",
              "<dl>\n",
              "    <dt><b>HTML</b></dt>\n",
              "    <dd>The standard markup language for creating web pages.</dd>\n",
              "\n",
              "    <dt><b>CSS</b></dt>\n",
              "    <dd>Styles web pages and controls their layout.</dd>\n",
              "\n",
              "    <dt><b>JavaScript</b></dt>\n",
              "    <dd>A programming language that adds interactivity to websites.</dd>\n",
              "\n",
              "    <dt><b>Node.js</b></dt>\n",
              "    <dd>A JavaScript runtime for server-side development.</dd>\n",
              "\n",
              "    <dt><b>MongoDB</b></dt>\n",
              "    <dd>A NoSQL database used in modern web applications.</dd>\n",
              "</dl>\n"
            ]
          },
          "metadata": {}
        }
      ]
    },
    {
      "cell_type": "markdown",
      "source": [
        "Q:6 % Create an ordered list of the full stack web development tech stack HTML, CSS, and JS. For each tech\n",
        "stack, create a table that lists the tech stack name, its primary use cases, and some key features or\n",
        "benefits. Below is a reference image."
      ],
      "metadata": {
        "id": "LRnTPye_nQTy"
      }
    },
    {
      "cell_type": "code",
      "source": [
        "from IPython.core.display import display, HTML\n",
        "\n",
        "html_combined = '''\n",
        "<ol>\n",
        "    <li>\n",
        "        HTML\n",
        "        <table border=\"1\">\n",
        "            <tr><th>Tech Stack</th><th>Use Case</th><th>Features</th></tr>\n",
        "            <tr><td>HTML</td><td>Web Page Structure</td><td>Simple, Flexible</td></tr>\n",
        "        </table>\n",
        "    </li>\n",
        "    <li>\n",
        "        CSS\n",
        "        <table border=\"1\">\n",
        "            <tr><th>Tech Stack</th><th>Use Case</th><th>Features</th></tr>\n",
        "            <tr><td>CSS</td><td>Styling</td><td>Responsive, Customizable</td></tr>\n",
        "        </table>\n",
        "    </li>\n",
        "    <li>\n",
        "        JavaScript\n",
        "        <table border=\"1\">\n",
        "            <tr><th>Tech Stack</th><th>Use Case</th><th>Features</th></tr>\n",
        "            <tr><td>JavaScript</td><td>Interactivity</td><td>Dynamic, Event-driven</td></tr>\n",
        "        </table>\n",
        "    </li>\n",
        "</ol>\n",
        "'''\n",
        "\n",
        "display(HTML(html_combined))\n"
      ],
      "metadata": {
        "colab": {
          "base_uri": "https://localhost:8080/",
          "height": 249
        },
        "id": "BnqMGUNqnwBK",
        "outputId": "38359b7a-39c1-4b60-836e-6383623053c9"
      },
      "execution_count": 16,
      "outputs": [
        {
          "output_type": "display_data",
          "data": {
            "text/plain": [
              "<IPython.core.display.HTML object>"
            ],
            "text/html": [
              "\n",
              "<ol>\n",
              "    <li>\n",
              "        HTML\n",
              "        <table border=\"1\">\n",
              "            <tr><th>Tech Stack</th><th>Use Case</th><th>Features</th></tr>\n",
              "            <tr><td>HTML</td><td>Web Page Structure</td><td>Simple, Flexible</td></tr>\n",
              "        </table>\n",
              "    </li>\n",
              "    <li>\n",
              "        CSS\n",
              "        <table border=\"1\">\n",
              "            <tr><th>Tech Stack</th><th>Use Case</th><th>Features</th></tr>\n",
              "            <tr><td>CSS</td><td>Styling</td><td>Responsive, Customizable</td></tr>\n",
              "        </table>\n",
              "    </li>\n",
              "    <li>\n",
              "        JavaScript\n",
              "        <table border=\"1\">\n",
              "            <tr><th>Tech Stack</th><th>Use Case</th><th>Features</th></tr>\n",
              "            <tr><td>JavaScript</td><td>Interactivity</td><td>Dynamic, Event-driven</td></tr>\n",
              "        </table>\n",
              "    </li>\n",
              "</ol>\n"
            ]
          },
          "metadata": {}
        }
      ]
    },
    {
      "cell_type": "markdown",
      "source": [
        "Q:7 Build a complex nested list structure representing a multi-level table of contents. Use unordered lists\n",
        "(<ul>) and list items (<li>) with inline-block styling to create a structured layout. Apply formatting tags to\n",
        "enhance the presentation of list items."
      ],
      "metadata": {
        "id": "k9RFpKJBoqVV"
      }
    },
    {
      "cell_type": "code",
      "source": [
        "from IPython.core.display import display, HTML\n",
        "\n",
        "html_nested_list = '''\n",
        "<h2><u><b>Table of Contents</b></u></h2>\n",
        "<ul>\n",
        "    <li><b>Introduction</b></li>\n",
        "    <li><b>Front-End Development</b>\n",
        "        <ul>\n",
        "            <li>HTML</li>\n",
        "            <li>CSS\n",
        "                <ul>\n",
        "                    <li>Flexbox</li>\n",
        "                    <li>Grid</li>\n",
        "                </ul>\n",
        "            </li>\n",
        "            <li>JavaScript</li>\n",
        "        </ul>\n",
        "    </li>\n",
        "    <li><b>Back-End Development</b>\n",
        "        <ul>\n",
        "            <li>Node.js</li>\n",
        "            <li>Express.js</li>\n",
        "        </ul>\n",
        "    </li>\n",
        "</ul>\n",
        "'''\n",
        "\n",
        "display(HTML(html_nested_list))\n"
      ],
      "metadata": {
        "colab": {
          "base_uri": "https://localhost:8080/",
          "height": 277
        },
        "id": "5bLp6gqOnwD6",
        "outputId": "ab6be431-ceda-4d69-83a6-a63d9e7d1141"
      },
      "execution_count": 17,
      "outputs": [
        {
          "output_type": "display_data",
          "data": {
            "text/plain": [
              "<IPython.core.display.HTML object>"
            ],
            "text/html": [
              "\n",
              "<h2><u><b>Table of Contents</b></u></h2>\n",
              "<ul>\n",
              "    <li><b>Introduction</b></li>\n",
              "    <li><b>Front-End Development</b>\n",
              "        <ul>\n",
              "            <li>HTML</li>\n",
              "            <li>CSS\n",
              "                <ul>\n",
              "                    <li>Flexbox</li>\n",
              "                    <li>Grid</li>\n",
              "                </ul>\n",
              "            </li>\n",
              "            <li>JavaScript</li>\n",
              "        </ul>\n",
              "    </li>\n",
              "    <li><b>Back-End Development</b>\n",
              "        <ul>\n",
              "            <li>Node.js</li>\n",
              "            <li>Express.js</li>\n",
              "        </ul>\n",
              "    </li>\n",
              "</ul>\n"
            ]
          },
          "metadata": {}
        }
      ]
    },
    {
      "cell_type": "markdown",
      "source": [],
      "metadata": {
        "id": "UuzITjAkqtEi"
      }
    },
    {
      "cell_type": "markdown",
      "source": [
        "Q:8  Create a table to display a conference schedule. Each row corresponds to a time slot, and each column\n",
        "corresponds to a room. Some time slots might have multiple sessions running simultaneously in different\n",
        "rooms. Utilize rowspan and colspan attributes as necessary to accommodate this complex schedule.\n",
        "(use table attribute “cellpadding”  to give extra padding in each table cell ).\n",
        "\n",
        "\n"
      ],
      "metadata": {
        "id": "Wx2Ol73pqtHG"
      }
    },
    {
      "cell_type": "code",
      "source": [
        "from IPython.core.display import display, HTML\n",
        "\n",
        "html_table = '''\n",
        "<table border=\"1\" cellpadding=\"10\">\n",
        "    <tr>\n",
        "        <th>Time</th>\n",
        "        <th>Room 1</th>\n",
        "        <th>Room 2</th>\n",
        "    </tr>\n",
        "    <tr>\n",
        "        <td>9:00 - 10:00 AM</td>\n",
        "        <td colspan=\"2\">Keynote Speech</td>\n",
        "    </tr>\n",
        "    <tr>\n",
        "        <td>10:30 - 11:30 AM</td>\n",
        "        <td>Web Development Basics</td>\n",
        "        <td>CSS Design Patterns</td>\n",
        "    </tr>\n",
        "    <tr>\n",
        "        <td>1:00 - 2:00 PM</td>\n",
        "        <td>JavaScript Frameworks</td>\n",
        "        <td rowspan=\"2\">Advanced Backend Development</td>\n",
        "    </tr>\n",
        "    <tr>\n",
        "        <td>2:30 - 3:30 PM</td>\n",
        "        <td>SEO Optimization</td>\n",
        "    </tr>\n",
        "</table>\n",
        "'''\n",
        "\n",
        "display(HTML(html_table))\n"
      ],
      "metadata": {
        "colab": {
          "base_uri": "https://localhost:8080/",
          "height": 228
        },
        "id": "mmgRXCVZnwGE",
        "outputId": "c4c48939-0123-4941-80c4-2ba93e4efe7e"
      },
      "execution_count": 18,
      "outputs": [
        {
          "output_type": "display_data",
          "data": {
            "text/plain": [
              "<IPython.core.display.HTML object>"
            ],
            "text/html": [
              "\n",
              "<table border=\"1\" cellpadding=\"10\">\n",
              "    <tr>\n",
              "        <th>Time</th>\n",
              "        <th>Room 1</th>\n",
              "        <th>Room 2</th>\n",
              "    </tr>\n",
              "    <tr>\n",
              "        <td>9:00 - 10:00 AM</td>\n",
              "        <td colspan=\"2\">Keynote Speech</td>\n",
              "    </tr>\n",
              "    <tr>\n",
              "        <td>10:30 - 11:30 AM</td>\n",
              "        <td>Web Development Basics</td>\n",
              "        <td>CSS Design Patterns</td>\n",
              "    </tr>\n",
              "    <tr>\n",
              "        <td>1:00 - 2:00 PM</td>\n",
              "        <td>JavaScript Frameworks</td>\n",
              "        <td rowspan=\"2\">Advanced Backend Development</td>\n",
              "    </tr>\n",
              "    <tr>\n",
              "        <td>2:30 - 3:30 PM</td>\n",
              "        <td>SEO Optimization</td>\n",
              "    </tr>\n",
              "</table>\n"
            ]
          },
          "metadata": {}
        }
      ]
    }
  ]
}